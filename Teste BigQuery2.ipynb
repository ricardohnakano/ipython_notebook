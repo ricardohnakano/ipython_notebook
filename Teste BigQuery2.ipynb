{
 "cells": [
  {
   "cell_type": "code",
   "execution_count": 21,
   "metadata": {
    "collapsed": false
   },
   "outputs": [],
   "source": [
    "from bigquery import get_client"
   ]
  },
  {
   "cell_type": "code",
   "execution_count": 27,
   "metadata": {
    "collapsed": true
   },
   "outputs": [],
   "source": [
    "project_id = 'kinetic-valor-110522'\n",
    "service_account = '52466526411-r0u5o52rmpt1lbj2ejqg7krhfn09k041@developer.gserviceaccount.com'\n",
    "key = '/home/ricardo/Desktop/teste-dfe8e2e35ba9.p12'"
   ]
  },
  {
   "cell_type": "code",
   "execution_count": 28,
   "metadata": {
    "collapsed": false
   },
   "outputs": [],
   "source": [
    "client = get_client(project_id, service_account=service_account,private_key_file=key, readonly=True)"
   ]
  },
  {
   "cell_type": "code",
   "execution_count": 29,
   "metadata": {
    "collapsed": false,
    "scrolled": false
   },
   "outputs": [
    {
     "name": "stderr",
     "output_type": "stream",
     "text": [
      "ERROR:root:Cannot create table dataset.my_table\n",
      "Http Error: {\n",
      " \"error\": {\n",
      "  \"errors\": [\n",
      "   {\n",
      "    \"domain\": \"global\",\n",
      "    \"reason\": \"insufficientPermissions\",\n",
      "    \"message\": \"Insufficient Permission\"\n",
      "   }\n",
      "  ],\n",
      "  \"code\": 403,\n",
      "  \"message\": \"Insufficient Permission\"\n",
      " }\n",
      "}\n",
      "\n"
     ]
    }
   ],
   "source": [
    "# Create a new table.\n",
    "schema = [\n",
    "    {'name': 'foo', 'type': 'STRING', 'mode': 'nullable'},\n",
    "    {'name': 'bar', 'type': 'FLOAT', 'mode': 'nullable'}\n",
    "]\n",
    "created = client.create_table('dataset', 'my_table', schema)"
   ]
  },
  {
   "cell_type": "code",
   "execution_count": 8,
   "metadata": {
    "collapsed": false
   },
   "outputs": [
    {
     "name": "stderr",
     "output_type": "stream",
     "text": [
      "ERROR:root:Problem with BigQuery insertAll\n",
      "Traceback (most recent call last):\n",
      "  File \"/home/ricardo/anaconda/lib/python2.7/site-packages/bigquery/client.py\", line 911, in push_rows\n",
      "    body=data\n",
      "  File \"/home/ricardo/anaconda/lib/python2.7/site-packages/oauth2client/util.py\", line 142, in positional_wrapper\n",
      "    return wrapped(*args, **kwargs)\n",
      "  File \"/home/ricardo/anaconda/lib/python2.7/site-packages/googleapiclient/http.py\", line 729, in execute\n",
      "    raise HttpError(resp, content, uri=self.uri)\n",
      "HttpError: <HttpError 403 when requesting https://www.googleapis.com/bigquery/v2/projects/kinetic-valor-110522/datasets/dataset/tables/tabela/insertAll?alt=json returned \"Insufficient Permission\">\n"
     ]
    }
   ],
   "source": [
    "rows =  [{'id':'dsad', 'one': 'ein', 'two': 'zwei'},\n",
    "         {'id': 'NzAzYmRiY', 'one': 'uno', 'two': 'dos'},\n",
    "         {'id': 'NzAzYmRiY', 'one': 'ein', 'two': 'zwei'}]\n",
    "\n",
    "inserted = client.push_rows('dataset', 'tabela', rows, 'id')"
   ]
  },
  {
   "cell_type": "code",
   "execution_count": 47,
   "metadata": {
    "collapsed": false
   },
   "outputs": [
    {
     "data": {
      "text/plain": [
       "[{'one': 'ein', 'two': 'zwei'},\n",
       " {'id': 'NzAzYmRiY', 'one': 'uno', 'two': 'dos'},\n",
       " {'id': 'NzAzYmRiY', 'one': 'ein', 'two': 'zwei'}]"
      ]
     },
     "execution_count": 47,
     "metadata": {},
     "output_type": "execute_result"
    }
   ],
   "source": [
    "rows"
   ]
  },
  {
   "cell_type": "code",
   "execution_count": 30,
   "metadata": {
    "collapsed": false
   },
   "outputs": [],
   "source": [
    "# Submit an async query.\n",
    "job_id, _results = client.query('SELECT * FROM dataset.tabela')\n",
    "\n",
    "# Check if the query has finished running.\n",
    "complete, row_count = client.check_job(job_id)\n",
    "\n",
    "# Retrieve the results.\n",
    "results = client.get_query_rows(job_id)"
   ]
  },
  {
   "cell_type": "code",
   "execution_count": 31,
   "metadata": {
    "collapsed": false
   },
   "outputs": [
    {
     "data": {
      "text/plain": [
       "[{u'id': u'id', u'one': u'one', u'two': u'two'},\n",
       " {u'id': u'asd', u'one': u'fa', u'two': u'gasda'}]"
      ]
     },
     "execution_count": 31,
     "metadata": {},
     "output_type": "execute_result"
    }
   ],
   "source": [
    "results"
   ]
  },
  {
   "cell_type": "code",
   "execution_count": null,
   "metadata": {
    "collapsed": true
   },
   "outputs": [],
   "source": []
  }
 ],
 "metadata": {
  "kernelspec": {
   "display_name": "Python 2",
   "language": "python",
   "name": "python2"
  },
  "language_info": {
   "codemirror_mode": {
    "name": "ipython",
    "version": 2
   },
   "file_extension": ".py",
   "mimetype": "text/x-python",
   "name": "python",
   "nbconvert_exporter": "python",
   "pygments_lexer": "ipython2",
   "version": "2.7.10"
  }
 },
 "nbformat": 4,
 "nbformat_minor": 0
}
